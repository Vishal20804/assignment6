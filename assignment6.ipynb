{
 "cells": [
  {
   "cell_type": "code",
   "execution_count": null,
   "id": "543c90bd-20c6-4fd1-bd9b-39fc7445da1e",
   "metadata": {},
   "outputs": [],
   "source": [
    "#ans:1=\n",
    "In object-oriented programming (OOP) paradigm, a class is a blueprint for creating objects, which are instances of that class. A class defines a set of attributes (data) and methods (functions) that the objects of that class will possess.\n",
    "Now, you can create an instance of this class by calling the class like a function:\n",
    "    \n",
    "    class Person:\n",
    "    def __init__(self, name):\n",
    "        self.name = name\n",
    "    \n",
    "    def greet(self):\n",
    "        print(\"Hello, my name is\", self.name)\n",
    "\n",
    "person = Person(\"Alice\")\n",
    "print(person.name)   # Output: Alice\n",
    "person.greet()      "
   ]
  },
  {
   "cell_type": "code",
   "execution_count": null,
   "id": "b4be1ca6-8709-465c-a37f-b92529342f20",
   "metadata": {},
   "outputs": [],
   "source": [
    "#ans:2=\n",
    "a)encapsulation\n",
    "b)polymorphism\n",
    "c)inheritance\n",
    "d)abstraction"
   ]
  },
  {
   "cell_type": "code",
   "execution_count": null,
   "id": "e26c76b4-2986-4aca-bcad-ac6fb891baf1",
   "metadata": {},
   "outputs": [],
   "source": [
    "#ans:3=\n",
    "\"__init__\" is a reseved method in python classes. It is called as a constructor in object oriented terminology. This method is called when an object is created from a class and it allows the class to initialize the attributes of the class.\n",
    "\n",
    "\n",
    "class Person:\n",
    "    def __init__(self, name, age):\n",
    "        self.name = name\n",
    "        self.age = age\n",
    "    \n",
    "    def greet(self):\n",
    "        print(\"Hello, my name is\", self.name, \"and I am\", self.age, \"years old.\")\n",
    "\n",
    "person = Person(\"Alice\", 25)\n",
    "print(person.name)   # Output: Alice\n",
    "print(person.age)    # Output: 25\n",
    "person.greet()       # Output: Hello, my name is Alice and I am 25 years old.\n",
    "\n",
    "\n"
   ]
  },
  {
   "cell_type": "code",
   "execution_count": null,
   "id": "b37b1a0c-627c-4dc7-ad5d-b5d10ed05fa9",
   "metadata": {},
   "outputs": [],
   "source": [
    "#ans:4=\n",
    "In object-oriented programming (OOP), self is a special parameter that refers to the instance of a class. It is used to access the attributes (data) and methods (functions) of an object.\n",
    "When you create an object (instance) of a class, Python automatically passes the instance as the first argument (self) to any method that is called on that object. This allows the method to access and modify the attributes of the instance.\n",
    "\n"
   ]
  },
  {
   "cell_type": "code",
   "execution_count": null,
   "id": "9e259099-a854-490d-8420-5845df9f7b07",
   "metadata": {},
   "outputs": [],
   "source": [
    "#ans:5=\n",
    "Inheritance is one of the fundamental concepts of object-oriented programming (OOP) that allows a new class to be based on an existing class. The new class inherits the attributes and methods of the existing class and can also add new attributes and methods or modify the inherited ones.\n",
    "class Animal:\n",
    "    def __init__(self, name):\n",
    "        self.name = name\n",
    "    \n",
    "    def speak(self):\n",
    "        print(\"The animal speaks.\")\n",
    "        \n",
    "class Dog(Animal):\n",
    "    def speak(self):\n",
    "        print(\"The dog barks.\")\n",
    "        \n",
    "class Cat(Animal):\n",
    "    def speak(self):\n",
    "        print(\"The cat meows.\")\n",
    "dog = Dog(\"Rufus\")\n",
    "cat = Cat(\"Whiskers\")\n",
    "\n",
    "dog.speak()   # Output: The dog barks.\n",
    "cat.speak()   # Output: The cat meows.\n"
   ]
  }
 ],
 "metadata": {
  "kernelspec": {
   "display_name": "Python 3 (ipykernel)",
   "language": "python",
   "name": "python3"
  },
  "language_info": {
   "codemirror_mode": {
    "name": "ipython",
    "version": 3
   },
   "file_extension": ".py",
   "mimetype": "text/x-python",
   "name": "python",
   "nbconvert_exporter": "python",
   "pygments_lexer": "ipython3",
   "version": "3.10.8"
  }
 },
 "nbformat": 4,
 "nbformat_minor": 5
}
